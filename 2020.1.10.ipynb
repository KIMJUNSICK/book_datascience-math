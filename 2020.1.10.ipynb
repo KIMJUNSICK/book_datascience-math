{
 "cells": [
  {
   "cell_type": "code",
   "execution_count": null,
   "metadata": {},
   "outputs": [],
   "source": [
    "# khan academy\n",
    "## understanded the theorem that dim(v) + dim(vt) = n  \n",
    "## express Rn with element of the subspace + the orthogonal subspace\n",
    "## and visualized this for understanding \n",
    "## solution to Ax = b in row space\n",
    "## what is projection?\n",
    "\n",
    "# book > math study\n",
    "## systematic quantity & multi-dimension quantity\n",
    "\n",
    "# korean highschool math > geometry & vector\n",
    "## space shape + practice"
   ]
  }
 ],
 "metadata": {
  "kernelspec": {
   "display_name": "Python 3",
   "language": "python",
   "name": "python3"
  },
  "language_info": {
   "codemirror_mode": {
    "name": "ipython",
    "version": 3
   },
   "file_extension": ".py",
   "mimetype": "text/x-python",
   "name": "python",
   "nbconvert_exporter": "python",
   "pygments_lexer": "ipython3",
   "version": "3.7.4"
  }
 },
 "nbformat": 4,
 "nbformat_minor": 2
}
