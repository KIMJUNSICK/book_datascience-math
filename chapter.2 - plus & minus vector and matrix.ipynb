{
 "cells": [
  {
   "cell_type": "code",
   "execution_count": 11,
   "metadata": {},
   "outputs": [
    {
     "name": "stdout",
     "output_type": "stream",
     "text": [
      "[[10.   6.5  2.8  0.4]]\n",
      "[[0.2 0.5 0.  0. ]]\n",
      "[[ 9.7  6.8  2.7  0.4]\n",
      " [10.   7.   3.2  0.6]]\n",
      "[[-0.3 -0.4 -0.1  0. ]\n",
      " [-0.8 -0.8 -0.2 -0.2]]\n"
     ]
    }
   ],
   "source": [
    "# plus & minus vector * matrix\n",
    "\n",
    "from sklearn.datasets import load_iris\n",
    "\n",
    "iris = load_iris()\n",
    "\n",
    "x1 = iris.data[0,:]\n",
    "x2 = iris.data[1,:]\n",
    "\n",
    "v1 = np.array([x1])\n",
    "v2 = np.array([x2])\n",
    "\n",
    "print(v1 + v2)\n",
    "print(v1 - v2)\n",
    "\n",
    "x3 = iris.data[2,:]\n",
    "x4 = iris.data[3,:]\n",
    "x5 = iris.data[4,:]\n",
    "x6 = iris.data[5,:]\n",
    "\n",
    "m1 = np.array([x3, x4])\n",
    "m2 = np.array([x5, x6])\n",
    "\n",
    "print(m1 + m2)\n",
    "print(m1 - m2)\n"
   ]
  }
 ],
 "metadata": {
  "kernelspec": {
   "display_name": "Python 3",
   "language": "python",
   "name": "python3"
  },
  "language_info": {
   "codemirror_mode": {
    "name": "ipython",
    "version": 3
   },
   "file_extension": ".py",
   "mimetype": "text/x-python",
   "name": "python",
   "nbconvert_exporter": "python",
   "pygments_lexer": "ipython3",
   "version": "3.7.4"
  }
 },
 "nbformat": 4,
 "nbformat_minor": 2
}
