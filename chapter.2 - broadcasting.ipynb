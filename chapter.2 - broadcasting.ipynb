{
 "cells": [
  {
   "cell_type": "code",
   "execution_count": 1,
   "metadata": {},
   "outputs": [
    {
     "name": "stdout",
     "output_type": "stream",
     "text": [
      "[[ 3.1  1.5 -0.6 -1.8]\n",
      " [ 3.1  1.5 -0.6 -1.8]\n",
      " [ 3.1  1.5 -0.6 -1.8]\n",
      " [ 3.1  1.5 -0.6 -1.8]]\n",
      "[[ 2.55  0.95 -1.15 -2.35]]\n"
     ]
    }
   ],
   "source": [
    "# broadcasting \n",
    "\n",
    "from sklearn.datasets import load_iris\n",
    "\n",
    "iris = load_iris()\n",
    "\n",
    "x1 = iris.data[0,:]\n",
    "\n",
    "v1 = np.array([x1])\n",
    "\n",
    "print(v1 - 2*np.ones((4,1)))\n",
    "\n",
    "# mean-removed vector \n",
    "\n",
    "x = 0\n",
    "v1_mean = 0\n",
    "\n",
    "for i in x1:\n",
    "    x += i \n",
    "    v1_mean = x / len(x1)\n",
    "\n",
    "print(v1 - v1_mean)"
   ]
  },
  {
   "cell_type": "code",
   "execution_count": null,
   "metadata": {},
   "outputs": [],
   "source": []
  }
 ],
 "metadata": {
  "kernelspec": {
   "display_name": "Python 3",
   "language": "python",
   "name": "python3"
  },
  "language_info": {
   "codemirror_mode": {
    "name": "ipython",
    "version": 3
   },
   "file_extension": ".py",
   "mimetype": "text/x-python",
   "name": "python",
   "nbconvert_exporter": "python",
   "pygments_lexer": "ipython3",
   "version": "3.7.4"
  }
 },
 "nbformat": 4,
 "nbformat_minor": 2
}
