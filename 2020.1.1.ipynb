{
 "cells": [
  {
   "cell_type": "code",
   "execution_count": null,
   "metadata": {},
   "outputs": [],
   "source": [
    "# khan academy\n",
    "\n",
    "## dim of null space\n",
    "## dim of column space\n",
    "## relation between pivot column & basis column\n",
    "## showing that candidate-column span sub-space\n",
    "\n",
    "## orthogonal complement space -> I don't understand row space \n",
    "## transpose matrix & row space -> not understand too\n",
    "## function for understanding linear transfomation"
   ]
  }
 ],
 "metadata": {
  "kernelspec": {
   "display_name": "Python 3",
   "language": "python",
   "name": "python3"
  },
  "language_info": {
   "codemirror_mode": {
    "name": "ipython",
    "version": 3
   },
   "file_extension": ".py",
   "mimetype": "text/x-python",
   "name": "python",
   "nbconvert_exporter": "python",
   "pygments_lexer": "ipython3",
   "version": "3.7.4"
  }
 },
 "nbformat": 4,
 "nbformat_minor": 2
}
