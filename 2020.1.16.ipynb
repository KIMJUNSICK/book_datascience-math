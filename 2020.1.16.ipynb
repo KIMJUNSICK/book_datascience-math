{
 "cells": [
  {
   "cell_type": "code",
   "execution_count": null,
   "metadata": {},
   "outputs": [],
   "source": [
    "# Khan academy \n",
    "## vector transformation > linear transformation > matrix vector product transformation \n",
    "## what is eigen-value & eigen vector?\n",
    "## solving for the eigenvalues of a 2x2 matrix\n",
    "## finding eigenvetors & eigenspaces\n",
    "## example of 3x3 matrix \n",
    "## showing that an eigenbasis makes for good coordinate systems"
   ]
  }
 ],
 "metadata": {
  "kernelspec": {
   "display_name": "Python 3",
   "language": "python",
   "name": "python3"
  },
  "language_info": {
   "codemirror_mode": {
    "name": "ipython",
    "version": 3
   },
   "file_extension": ".py",
   "mimetype": "text/x-python",
   "name": "python",
   "nbconvert_exporter": "python",
   "pygments_lexer": "ipython3",
   "version": "3.7.4"
  }
 },
 "nbformat": 4,
 "nbformat_minor": 2
}
