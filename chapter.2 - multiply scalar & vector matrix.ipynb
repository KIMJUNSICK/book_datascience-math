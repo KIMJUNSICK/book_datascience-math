{
 "cells": [
  {
   "cell_type": "code",
   "execution_count": 1,
   "metadata": {},
   "outputs": [
    {
     "name": "stdout",
     "output_type": "stream",
     "text": [
      "[[10.2  7.   2.8  0.4]]\n",
      "[[15.3 10.5  4.2  0.6]]\n",
      "[[9.8 6.  2.8 0.4]\n",
      " [9.4 6.4 2.6 0.4]]\n",
      "[[14.7  9.   4.2  0.6]\n",
      " [14.1  9.6  3.9  0.6]]\n"
     ]
    }
   ],
   "source": [
    "# multiply scalar & vector/matrix\n",
    "\n",
    "from sklearn.datasets import load_iris\n",
    "\n",
    "iris = load_iris()\n",
    "\n",
    "x1 = iris.data[0,:]\n",
    "\n",
    "v1 = np.array([x1])\n",
    "\n",
    "print(2*v1)\n",
    "print(3*v1)\n",
    "\n",
    "x2 = iris.data[1,:]\n",
    "x3 = iris.data[2,:]\n",
    "\n",
    "m1 = np.array([x2, x3])\n",
    "\n",
    "print(2*m1)\n",
    "print(3*m1)"
   ]
  }
 ],
 "metadata": {
  "kernelspec": {
   "display_name": "Python 3",
   "language": "python",
   "name": "python3"
  },
  "language_info": {
   "codemirror_mode": {
    "name": "ipython",
    "version": 3
   },
   "file_extension": ".py",
   "mimetype": "text/x-python",
   "name": "python",
   "nbconvert_exporter": "python",
   "pygments_lexer": "ipython3",
   "version": "3.7.4"
  }
 },
 "nbformat": 4,
 "nbformat_minor": 2
}
