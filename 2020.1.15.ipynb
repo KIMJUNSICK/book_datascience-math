{
 "cells": [
  {
   "cell_type": "code",
   "execution_count": null,
   "metadata": {},
   "outputs": [],
   "source": [
    "# Khan academy\n",
    "## Finding projection onto subspace with orthonormal basis\n",
    "## Finding tranformation matrix with orthonormal change-of-basis matrix\n",
    "## orthogonal matrices preserve lengths & angles\n",
    "## The Gram-Shumidt process + example"
   ]
  }
 ],
 "metadata": {
  "kernelspec": {
   "display_name": "Python 3",
   "language": "python",
   "name": "python3"
  },
  "language_info": {
   "codemirror_mode": {
    "name": "ipython",
    "version": 3
   },
   "file_extension": ".py",
   "mimetype": "text/x-python",
   "name": "python",
   "nbconvert_exporter": "python",
   "pygments_lexer": "ipython3",
   "version": "3.7.4"
  }
 },
 "nbformat": 4,
 "nbformat_minor": 2
}
