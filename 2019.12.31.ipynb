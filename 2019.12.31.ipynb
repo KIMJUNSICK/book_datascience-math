{
 "cells": [
  {
   "cell_type": "code",
   "execution_count": null,
   "metadata": {},
   "outputs": [],
   "source": [
    "# khan academy\n",
    "## define angle between vectors\n",
    "## define plane in R3\n",
    "## cross product & normal vector\n",
    "\n",
    "## visualize column space to plane in R3\n",
    "## proof: any basis of sub-space have same number of elements\n",
    "## dim of zero space\n",
    "## dim of column space (rank)\n",
    "## relationship between basis column & pivot column\n",
    "## showing that the candidate basis does span C(A)"
   ]
  }
 ],
 "metadata": {
  "kernelspec": {
   "display_name": "Python 3",
   "language": "python",
   "name": "python3"
  },
  "language_info": {
   "codemirror_mode": {
    "name": "ipython",
    "version": 3
   },
   "file_extension": ".py",
   "mimetype": "text/x-python",
   "name": "python",
   "nbconvert_exporter": "python",
   "pygments_lexer": "ipython3",
   "version": "3.7.4"
  }
 },
 "nbformat": 4,
 "nbformat_minor": 2
}
