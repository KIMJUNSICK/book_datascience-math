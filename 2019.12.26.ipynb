{
 "cells": [
  {
   "cell_type": "code",
   "execution_count": 1,
   "metadata": {},
   "outputs": [],
   "source": [
    "## equation of straight line\n",
    "## distance between line and dot "
   ]
  },
  {
   "cell_type": "code",
   "execution_count": 1,
   "metadata": {},
   "outputs": [
    {
     "data": {
      "text/plain": [
       "3"
      ]
     },
     "execution_count": 1,
     "metadata": {},
     "output_type": "execute_result"
    }
   ],
   "source": [
    "# coordinates and transformations\n",
    "## linearly dependent & linearly independent\n",
    "\n",
    "x1 = np.array([1,2])\n",
    "x2 = np.array([3,3])\n",
    "x3 = np.array([5,7])\n",
    "\n",
    "2*x1+x2-x3\n",
    "\n",
    "## linearly independent & system of linear equation\n",
    "## cases of linearly dependent\n",
    "## rank\n",
    "x1 = np.array([[1,3],[2,3]])\n",
    "np.linalg.matrix_rank(x1)\n",
    "\n",
    "x2 = np.array([[1,3,5],[2,3,7]])\n",
    "np.linalg.matrix_rank(x2)\n",
    "\n",
    "# practice \n",
    "A = np.array([[1,5,6],[2,6,8],[3,11,14], [1,4,5]])\n",
    "np.linalg.matrix_rank(A)\n",
    "\n",
    "B = np.array([[1,5,6],[2,6,8],[3,11,14], [1,4,8]])\n",
    "np.linalg.matrix_rank(B) # full rank \n",
    "\n"
   ]
  },
  {
   "cell_type": "code",
   "execution_count": 7,
   "metadata": {},
   "outputs": [
    {
     "data": {
      "text/plain": [
       "2"
      ]
     },
     "execution_count": 7,
     "metadata": {},
     "output_type": "execute_result"
    }
   ],
   "source": [
    "## low-rank matrix \n",
    "x1 = np.array([[1],[1]])\n",
    "x2 = np.array([[1,1],[1,-1]])\n",
    "\n",
    "np.linalg.matrix_rank(x1 @ x1.T)\n",
    "np.linalg.matrix_rank(x2 @ x2.T)"
   ]
  },
  {
   "cell_type": "code",
   "execution_count": null,
   "metadata": {},
   "outputs": [],
   "source": [
    "## vector space & basis vector\n",
    "## rnak & inverse matrix\n",
    "## vector space projection\n",
    "## vector space with orthonomal basis vector\n",
    "## standard basis vector\n",
    "## coordinates"
   ]
  }
 ],
 "metadata": {
  "kernelspec": {
   "display_name": "Python 3",
   "language": "python",
   "name": "python3"
  },
  "language_info": {
   "codemirror_mode": {
    "name": "ipython",
    "version": 3
   },
   "file_extension": ".py",
   "mimetype": "text/x-python",
   "name": "python",
   "nbconvert_exporter": "python",
   "pygments_lexer": "ipython3",
   "version": "3.7.4"
  }
 },
 "nbformat": 4,
 "nbformat_minor": 2
}
