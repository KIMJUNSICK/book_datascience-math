{
 "cells": [
  {
   "cell_type": "code",
   "execution_count": null,
   "metadata": {},
   "outputs": [],
   "source": [
    "# khan academy\n",
    "## definition of surjective & injective & relationship between these and invertibility\n",
    "## condition of matrix for injective\n",
    "## simplify condition of invertible matrix\n",
    "## is invertible transformation linear T?\n",
    "## operation for get invertible matrix\n",
    "## idea of orthogonal complement space \n",
    "\n",
    "# book\n",
    "## 수학공부법\n",
    "### 양은 수에 앞선다"
   ]
  }
 ],
 "metadata": {
  "kernelspec": {
   "display_name": "Python 3",
   "language": "python",
   "name": "python3"
  },
  "language_info": {
   "codemirror_mode": {
    "name": "ipython",
    "version": 3
   },
   "file_extension": ".py",
   "mimetype": "text/x-python",
   "name": "python",
   "nbconvert_exporter": "python",
   "pygments_lexer": "ipython3",
   "version": "3.7.4"
  }
 },
 "nbformat": 4,
 "nbformat_minor": 2
}
