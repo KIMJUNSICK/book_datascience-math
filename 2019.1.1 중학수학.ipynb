{
 "cells": [
  {
   "cell_type": "code",
   "execution_count": null,
   "metadata": {},
   "outputs": [],
   "source": [
    "# 학원일하다가 관심가서 중학교 기하학 파트를 전반적으로 살펴보았다. \n",
    "# 정의와 성질 그리고 조건을 구분지어 공부했다.\n",
    "# 기본 정리들을 주어진 정의와 성질을 통해 하나하나 증명했다.\n",
    "# 요즘 수학이 왜 이렇게 재밌는지 모르겠다. 호기심이 충족되는 느낌이 좋다."
   ]
  }
 ],
 "metadata": {
  "kernelspec": {
   "display_name": "Python 3",
   "language": "python",
   "name": "python3"
  },
  "language_info": {
   "codemirror_mode": {
    "name": "ipython",
    "version": 3
   },
   "file_extension": ".py",
   "mimetype": "text/x-python",
   "name": "python",
   "nbconvert_exporter": "python",
   "pygments_lexer": "ipython3",
   "version": "3.7.4"
  }
 },
 "nbformat": 4,
 "nbformat_minor": 2
}
