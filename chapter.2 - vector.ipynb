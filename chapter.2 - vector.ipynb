{
 "cells": [
  {
   "cell_type": "code",
   "execution_count": 18,
   "metadata": {},
   "outputs": [
    {
     "name": "stdout",
     "output_type": "stream",
     "text": [
      "[4.9 3.  1.4 0.2] [4.7 3.2 1.3 0.2]\n",
      "x1 [[5.1]\n",
      " [3.5]\n",
      " [1.4]\n",
      " [0.2]]\n",
      "x2 [[4.9 4.7]\n",
      " [3.  3.2]\n",
      " [1.4 1.3]\n",
      " [0.2 0.2]]\n"
     ]
    }
   ],
   "source": [
    "# express vector with numpy\n",
    "\n",
    "from sklearn.datasets import load_iris\n",
    "\n",
    "iris = load_iris()\n",
    "\n",
    "iris.data[0,:]\n",
    "\n",
    "iris_one_demension = [[5.1],[3.5],[1.4],[0.2]]\n",
    "\n",
    "print(iris.data[1,:], iris.data[2,:])\n",
    "\n",
    "iris_one_demension2and3 = [[4.9,4.7], [3, 3.2], [1.4, 1.3], [0.2, 0.2]]\n",
    "\n",
    "x1 = np.array(iris_one_demension)\n",
    "x2 = np.array(iris_one_demension2and3)\n",
    "\n",
    "print('x1', x1)\n",
    "print('x2', x2)"
   ]
  },
  {
   "cell_type": "code",
   "execution_count": 5,
   "metadata": {},
   "outputs": [
    {
     "data": {
      "image/png": "[encoded data removed]",
      "text/plain": [
       "<Figure size 576x144 with 8 Axes>"
      ]
     },
     "metadata": {},
     "output_type": "display_data"
    },
    {
     "data": {
      "image/png": "[encoded data removed]",
      "text/plain": [
       "<Figure size 576x216 with 8 Axes>"
      ]
     },
     "metadata": {},
     "output_type": "display_data"
    }
   ],
   "source": [
    "# predict number(0-9) image \n",
    "\n",
    "from sklearn.datasets import load_digits\n",
    "\n",
    "digits = load_digits() # load data\n",
    "\n",
    "samples = [0,10,20,30,1,11,21,31] # selected image number\n",
    "\n",
    "selected_image=[]\n",
    "\n",
    "for i in range(8):\n",
    "    selected_image.append(digits.images[samples[i]])\n",
    "\n",
    "\n",
    "# visualization with matplotlib.pylab    \n",
    "plt.figure(figsize=(8,2))\n",
    "for i in range(8):\n",
    "    plt.subplot(1,8, i+1)\n",
    "    plt.imshow(selected_image[i], interpolation='nearest', cmap=plt.cm.bone_r)\n",
    "    plt.grid(False); plt.xticks([]); plt.yticks([]);\n",
    "    plt.title(f\"image {i+1}\")\n",
    "\n",
    "plt.suptitle('number 0 & 1 images')\n",
    "plt.tight_layout()\n",
    "plt.show()\n",
    "\n",
    "v = []\n",
    "for i in range(8):\n",
    "    v.append(selected_image[i].reshape(64,1)) # vectorizaion\n",
    "\n",
    "plt.figure(figsize=(8,3))\n",
    "for i in range(8):\n",
    "    plt.subplot(1,8, i+1)\n",
    "    plt.imshow(v[i], aspect=0.4,\n",
    "              interpolation=\"nearest\", cmap=plt.cm.bone_r)\n",
    "    plt.grid(False); plt.xticks([]); plt.yticks([])\n",
    "    plt.title(f'vector {i+1}')\n",
    "plt.suptitle('vectorized image', y=1.05)\n",
    "plt.tight_layout(w_pad=7)\n",
    "plt.show()"
   ]
  },
  {
   "cell_type": "code",
   "execution_count": null,
   "metadata": {},
   "outputs": [],
   "source": [
    "\n"
   ]
  }
 ],
 "metadata": {
  "kernelspec": {
   "display_name": "Python 3",
   "language": "python",
   "name": "python3"
  },
  "language_info": {
   "codemirror_mode": {
    "name": "ipython",
    "version": 3
   },
   "file_extension": ".py",
   "mimetype": "text/x-python",
   "name": "python",
   "nbconvert_exporter": "python",
   "pygments_lexer": "ipython3",
   "version": "3.7.4"
  }
 },
 "nbformat": 4,
 "nbformat_minor": 2
}
