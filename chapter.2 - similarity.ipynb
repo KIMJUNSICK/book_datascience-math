{
 "cells": [
  {
   "cell_type": "code",
   "execution_count": 45,
   "metadata": {},
   "outputs": [
    {
     "data": {
      "image/png": "[encoded data removed]",
      "text/plain": [
       "<Figure size 432x288 with 8 Axes>"
      ]
     },
     "metadata": {},
     "output_type": "display_data"
    },
    {
     "name": "stdout",
     "output_type": "stream",
     "text": [
      "3064.0 3661.0\n",
      "1866.0 1883.0 2421.0 2479.0\n"
     ]
    }
   ],
   "source": [
    "from sklearn.datasets import load_digits\n",
    "import matplotlib.gridspec as gridspec\n",
    "\n",
    "digits = load_digits()\n",
    "\n",
    "# sample = [1,10,1,11]\n",
    "\n",
    "# d = {}\n",
    "# v = {}\n",
    "\n",
    "# for i in range(4):\n",
    "#     d[\"d\" + str(i)] = digits.images[sample[i]]\n",
    "#     v[\"v\" + str(i)] = d[\"d\" + str(i)].reshape(64,1)\n",
    "\n",
    "# plt.figure(figsize=(9,9))\n",
    "# gs = gridspec.GridSpec(1,8, height_ratios=[1], \n",
    "#                       width_ratios = [9,1,9,1,9,1,9,1])\n",
    "\n",
    "\n",
    "d0 = digits.images[0]\n",
    "d1 = digits.images[10]\n",
    "d2 = digits.images[1]\n",
    "d3 = digits.images[11]\n",
    "\n",
    "v0 = d0.reshape(64,1)\n",
    "v1 = d1.reshape(64,1)\n",
    "v2 = d2.reshape(64,1)\n",
    "v3 = d3.reshape(64,1)\n",
    "\n",
    "for i in range(4):\n",
    "    plt.subplot(gs[2*i])\n",
    "    plt.imshow(eval('d' + str(i)), aspect=1,\n",
    "              interpolation =\"nearest\", cmap=plt.cm.bone_r)\n",
    "    plt.grid(False)\n",
    "    plt.xticks([])\n",
    "    plt.yticks([])\n",
    "    plt.title(f'image {i}')\n",
    "    \n",
    "    plt.subplot(gs[2*i+1])\n",
    "    plt.imshow(eval('v' + str(i)), aspect=0.25,\n",
    "              interpolation = \"nearest\", cmap=plt.cm.bone_r)\n",
    "    plt.grid(False)\n",
    "    plt.xticks([])\n",
    "    plt.yticks([])\n",
    "    plt.title(f'vector {i}')\n",
    "\n",
    "plt.tight_layout()\n",
    "plt.show()\n",
    "    \n",
    "print((v0.T @ v1)[0][0], (v2.T @ v3)[0][0])\n",
    "print((v0.T @ v2)[0][0], (v0.T @ v3)[0][0],(v1.T @ v2)[0][0],(v1.T @ v3)[0][0])"
   ]
  },
  {
   "cell_type": "code",
   "execution_count": 83,
   "metadata": {},
   "outputs": [
    {
     "name": "stdout",
     "output_type": "stream",
     "text": [
      "2421.0\n",
      "[[3070. 1866. 2264. ... 2812. 3006. 2898.]\n",
      " [1866. 4209. 3432. ... 3906. 3083. 3307.]\n",
      " [2264. 3432. 4388. ... 4005. 3063. 3697.]\n",
      " ...\n",
      " [2812. 3906. 4005. ... 5092. 3729. 4598.]\n",
      " [3006. 3083. 3063. ... 3729. 4316. 3850.]\n",
      " [2898. 3307. 3697. ... 4598. 3850. 4938.]]\n"
     ]
    }
   ],
   "source": [
    "from sklearn.datasets import load_digits\n",
    "import matplotlib.gridspec as gridspec\n",
    "\n",
    "X = load_digits().data\n",
    "\n",
    "# practice 1\n",
    "print(X[1].T @ X[10])\n",
    "\n",
    "# practice 2\n",
    "print(X @ X.T)\n"
   ]
  }
 ],
 "metadata": {
  "kernelspec": {
   "display_name": "Python 3",
   "language": "python",
   "name": "python3"
  },
  "language_info": {
   "codemirror_mode": {
    "name": "ipython",
    "version": 3
   },
   "file_extension": ".py",
   "mimetype": "text/x-python",
   "name": "python",
   "nbconvert_exporter": "python",
   "pygments_lexer": "ipython3",
   "version": "3.7.4"
  }
 },
 "nbformat": 4,
 "nbformat_minor": 2
}
