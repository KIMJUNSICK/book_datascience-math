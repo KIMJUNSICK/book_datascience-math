{
 "cells": [
  {
   "cell_type": "code",
   "execution_count": 51,
   "metadata": {},
   "outputs": [
    {
     "name": "stdout",
     "output_type": "stream",
     "text": [
      "[[37.49]]\n",
      "[[37.49]]\n",
      "[[4.9], [3.0], [1.4], [0.2]]\n",
      "[[5.1]\n",
      " [3.5]\n",
      " [1.4]\n",
      " [0.2]]\n",
      "[[5.1]\n",
      " [3.5]\n",
      " [1.4]\n",
      " [0.2]]\n",
      "[[40.26]]\n"
     ]
    },
    {
     "data": {
      "text/plain": [
       "2.5"
      ]
     },
     "execution_count": 51,
     "metadata": {},
     "output_type": "execute_result"
    }
   ],
   "source": [
    "from sklearn.datasets import load_iris\n",
    "\n",
    "iris = load_iris()\n",
    "\n",
    "x1 = iris.data[0,:]\n",
    "x2 = iris.data[1,:]\n",
    "\n",
    "v1 = np.array([x1])\n",
    "v2 = np.array([x2])\n",
    "\n",
    "print(v1 @ v2.T)\n",
    "print(np.dot(v1, v2.T))\n",
    "\n",
    "# vectorization?\n",
    "x3 = iris.data[2,:]\n",
    "v3 = []\n",
    "for i in x2:\n",
    "    v = [i]\n",
    "    v3.append(v)\n",
    "print(v3)\n",
    "\n",
    "# define function for making useful 2-dimension array\n",
    "def vectorize(list):\n",
    "    v = []\n",
    "    for item in list:\n",
    "        item_list = [item]\n",
    "        v.append(item_list)\n",
    "    return np.array(v)\n",
    "\n",
    "rv1 = vectorize(x1)\n",
    "rv2 = vectorize(x2)\n",
    "\n",
    "rv1.T @ rv2\n",
    "\n",
    "# don't have to coding this ftn, use reshape method of array\n",
    "v_x1 = np.array(x1).reshape(len(x1),1)\n",
    "v_x2 = np.array(x1).reshape(len(x2),1)\n",
    "print(v_x1)\n",
    "print(v_x2)\n",
    "print(v_x1.T @ v_x2) # dot product\n",
    "\n",
    "# weighted sum \n",
    "stock_quantity = [3,4,5]\n",
    "stock_value = [100,80,50]\n",
    "\n",
    "v_stock_quantity = vectorize(stock_quantity)\n",
    "v_stock_value = vectorize(stock_value)\n",
    "\n",
    "# 3*100 + 4*80 + 5*50\n",
    "w_sum = v_stock_quantity.T @ v_stock_value\n",
    "\n",
    "# weighted average\n",
    "w_sum / sum(stock_quantity)\n",
    "\n",
    "# mean\n",
    "list = [1,2,3,4]\n",
    "v_list = np.array(list)\n",
    "v_list.mean()"
   ]
  },
  {
   "cell_type": "code",
   "execution_count": null,
   "metadata": {},
   "outputs": [],
   "source": []
  }
 ],
 "metadata": {
  "kernelspec": {
   "display_name": "Python 3",
   "language": "python",
   "name": "python3"
  },
  "language_info": {
   "codemirror_mode": {
    "name": "ipython",
    "version": 3
   },
   "file_extension": ".py",
   "mimetype": "text/x-python",
   "name": "python",
   "nbconvert_exporter": "python",
   "pygments_lexer": "ipython3",
   "version": "3.7.4"
  }
 },
 "nbformat": 4,
 "nbformat_minor": 2
}
