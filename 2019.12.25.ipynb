{
 "cells": [
  {
   "cell_type": "code",
   "execution_count": 1,
   "metadata": {},
   "outputs": [],
   "source": [
    "# linear algebra & basic of analytical geometry\n",
    "# geometrical meaning of vector \n",
    "# size of vector \n",
    "# the multiplication of vector and scalar\n",
    "# unit vector\n",
    "# sum of vector \n",
    "# linear combination \n",
    "# difference of vector \n",
    "# Word2Vec\n",
    "# Euclidean distance\n",
    "# dot product of vector & trigonometry\n",
    "# orthogonal\n",
    "# component and decomposition of vector\n",
    "# projection & rejection \n",
    "# equation of straight line\n",
    "# distance between line & dot"
   ]
  }
 ],
 "metadata": {
  "kernelspec": {
   "display_name": "Python 3",
   "language": "python",
   "name": "python3"
  },
  "language_info": {
   "codemirror_mode": {
    "name": "ipython",
    "version": 3
   },
   "file_extension": ".py",
   "mimetype": "text/x-python",
   "name": "python",
   "nbconvert_exporter": "python",
   "pygments_lexer": "ipython3",
   "version": "3.7.4"
  }
 },
 "nbformat": 4,
 "nbformat_minor": 2
}
