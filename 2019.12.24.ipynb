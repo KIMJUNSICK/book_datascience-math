{
 "cells": [
  {
   "cell_type": "code",
   "execution_count": 5,
   "metadata": {},
   "outputs": [
    {
     "name": "stdout",
     "output_type": "stream",
     "text": [
      "228\n",
      "228.0\n"
     ]
    }
   ],
   "source": [
    "# Quadratic Form \n",
    "\n",
    "X = np.array([1,2,3])\n",
    "\n",
    "A = np.arange(1,10).reshape(3,3)\n",
    "\n",
    "X.T @ A @ X\n",
    "\n",
    "# practice\n",
    "\n",
    "print(X.T @ A @ X)\n",
    "\n",
    "print(1/2 * (X.T @ A @ X + X.T @ A.T @ X))"
   ]
  },
  {
   "cell_type": "code",
   "execution_count": 30,
   "metadata": {},
   "outputs": [],
   "source": [
    "# submatrix"
   ]
  },
  {
   "cell_type": "code",
   "execution_count": 29,
   "metadata": {},
   "outputs": [
    {
     "name": "stdout",
     "output_type": "stream",
     "text": [
      "[[14]]\n",
      "14.0\n"
     ]
    }
   ],
   "source": [
    "# matrix norm \n",
    "\n",
    "import math\n",
    "\n",
    "A = (np.arange(9)-4).reshape((3,3))\n",
    "A\n",
    "\n",
    "np.linalg.norm(A)\n",
    "\n",
    "v1 = (np.arange(4)-3).reshape((4,1))\n",
    "v_norm = np.linalg.norm(v1)\n",
    "\n",
    "print(v_square)\n",
    "print(v_norm * v_norm)"
   ]
  },
  {
   "cell_type": "code",
   "execution_count": 31,
   "metadata": {},
   "outputs": [],
   "source": [
    "# positive definite\n",
    "# positive semi-definite"
   ]
  },
  {
   "cell_type": "code",
   "execution_count": 44,
   "metadata": {},
   "outputs": [
    {
     "name": "stdout",
     "output_type": "stream",
     "text": [
      "-45\n",
      "-45\n",
      "-45\n"
     ]
    }
   ],
   "source": [
    "# trace\n",
    "\n",
    "np.trace(np.eye(4))\n",
    "\n",
    "A = (np.arange(4)-3).reshape((2,2))\n",
    "X = (np.arange(2)-3).reshape(2,1)\n",
    "\n",
    "# practice\n",
    "print(np.trace(X.T @ A @ X))\n",
    "print(np.trace(A @ X @ X.T))\n",
    "print(np.trace(X @ X.T @ A))\n",
    "\n"
   ]
  },
  {
   "cell_type": "code",
   "execution_count": 47,
   "metadata": {},
   "outputs": [
    {
     "data": {
      "text/plain": [
       "-9.51619735392994e-16"
      ]
     },
     "execution_count": 47,
     "metadata": {},
     "output_type": "execute_result"
    }
   ],
   "source": [
    "# determinant\n",
    "A = np.array([[1,2,3],[4,5,6], [7,8,9]])\n",
    "\n",
    "np.linalg.det(A)"
   ]
  },
  {
   "cell_type": "code",
   "execution_count": 48,
   "metadata": {},
   "outputs": [],
   "source": [
    "# system of linear equations"
   ]
  },
  {
   "cell_type": "code",
   "execution_count": 52,
   "metadata": {},
   "outputs": [
    {
     "data": {
      "text/plain": [
       "array([[ 0., -1.,  1.],\n",
       "       [ 1.,  1., -1.],\n",
       "       [-1.,  0.,  1.]])"
      ]
     },
     "execution_count": 52,
     "metadata": {},
     "output_type": "execute_result"
    }
   ],
   "source": [
    "# inverse matrix\n",
    "# invertible matrix or singular matrix\n",
    "# new concept: matrix of cofators or cofactor matrix, comatrix\n",
    "# new concept: adjoint matrix, adjugate matrix\n",
    "\n",
    "# practice\n",
    "A = np.array([[1,1,0],[0,1,1],[1,1,1]])\n",
    "np.linalg.inv(A)"
   ]
  },
  {
   "cell_type": "code",
   "execution_count": 72,
   "metadata": {},
   "outputs": [
    {
     "data": {
      "text/plain": [
       "array([[1.00000000e+00],\n",
       "       [6.45571345e-16],\n",
       "       [2.00000000e+00]])"
      ]
     },
     "execution_count": 72,
     "metadata": {},
     "output_type": "execute_result"
    }
   ],
   "source": [
    "# inverse matrix @ solution of linear equation\n",
    "\n",
    "import math\n",
    "\n",
    "A = np.array([[1,1,0],[0,1,1],[1,1,1]])\n",
    "A_inv = np.linalg.inv(A)\n",
    "\n",
    "B = np.array([[1],[2],[3]])\n",
    "\n",
    "solution = A_inv @ B\n",
    "solution\n",
    "\n",
    "x, resid, rank, s = np.linalg.lstsq(A,B)\n",
    "\n",
    "x\n"
   ]
  },
  {
   "cell_type": "code",
   "execution_count": 114,
   "metadata": {},
   "outputs": [
    {
     "name": "stdout",
     "output_type": "stream",
     "text": [
      "[-3.12710043e+02 -1.15193942e+02  1.44996465e+01 -1.13259317e-01]\n",
      "[-3.12710043e+02 -1.15193942e+02  1.44996465e+01 -1.13259317e-01]\n"
     ]
    },
    {
     "data": {
      "text/plain": [
       "-413.51759840148617"
      ]
     },
     "execution_count": 114,
     "metadata": {},
     "output_type": "execute_result"
    }
   ],
   "source": [
    "# system of linear equation & linear prediction model\n",
    "\n",
    "# practice\n",
    "from sklearn.datasets import load_boston\n",
    "\n",
    "boston = load_boston()\n",
    "\n",
    "X = boston.data\n",
    "y = boston.target \n",
    "\n",
    "A = boston.data[:4, [0,4,5,6]] # 범죄율, 공기 오염도, 방 개수, 오래된 정도 \n",
    "\n",
    "b = y[:4]\n",
    "\n",
    "w1 = np.linalg.inv(A) @ b\n",
    "w2 = np.linalg.lstsq(A,b)[0]\n",
    "\n",
    "print(w1)\n",
    "print(w2)\n"
   ]
  },
  {
   "cell_type": "code",
   "execution_count": 135,
   "metadata": {},
   "outputs": [
    {
     "name": "stdout",
     "output_type": "stream",
     "text": [
      "[[1.03333333]\n",
      " [0.95      ]\n",
      " [1.05      ]]\n",
      "[[1.03333333]\n",
      " [0.95      ]\n",
      " [1.05      ]]\n",
      "[0.00166667] 0.0016666666666666698\n",
      "[-9.28965170e-02  4.87149552e-02 -4.05997958e-03  2.85399882e+00\n",
      " -2.86843637e+00  5.92814778e+00 -7.26933458e-03 -9.68514157e-01\n",
      "  1.71151128e-01 -9.39621540e-03 -3.92190926e-01  1.49056102e-02\n",
      " -4.16304471e-01]\n"
     ]
    }
   ],
   "source": [
    "# number of knowns(N) & number of equations(M)\n",
    "# case: N = M / N < M / N > M\n",
    "# if N < M then solution could not exist.\n",
    "# but can solve this problem with least square problem\n",
    "\n",
    "A = np.array([[1,1,0],[0,1,1],[1,1,1],[1,1,2]])\n",
    "b = np.array([[2],[2],[3],[4.1]])\n",
    "\n",
    "# pseudo_inv of A\n",
    "A_pseudo_inv = np.linalg.inv(A.T @ A) @ A.T\n",
    "\n",
    "x1 = A_pseudo_inv @ b\n",
    "\n",
    "A @ x1 # 거의 b와 같다. 오차가 매우 작다. \n",
    "\n",
    "x2, resid, rank, s = np.linalg.lstsq(A,b)\n",
    "\n",
    "print(x1)\n",
    "print(x2)\n",
    "\n",
    "# resid\n",
    "print(resid, np.linalg.norm(A @ x1 -b) **2)\n"
   ]
  },
  {
   "cell_type": "code",
   "execution_count": 152,
   "metadata": {},
   "outputs": [
    {
     "data": {
      "text/plain": [
       "13.775986264171552"
      ]
     },
     "execution_count": 152,
     "metadata": {},
     "output_type": "execute_result"
    }
   ],
   "source": [
    "# practice \n",
    "from sklearn.datasets import load_boston\n",
    "\n",
    "boston = load_boston()\n",
    "\n",
    "X = boston.data\n",
    "y = boston.target\n",
    "\n",
    "X_pinv = np.linalg.inv(X.T @ X) @ X.T\n",
    "\n",
    "w = X_pinv @ y\n",
    "\n",
    "sum(w) # why is s not 1?\n"
   ]
  }
 ],
 "metadata": {
  "kernelspec": {
   "display_name": "Python 3",
   "language": "python",
   "name": "python3"
  },
  "language_info": {
   "codemirror_mode": {
    "name": "ipython",
    "version": 3
   },
   "file_extension": ".py",
   "mimetype": "text/x-python",
   "name": "python",
   "nbconvert_exporter": "python",
   "pygments_lexer": "ipython3",
   "version": "3.7.4"
  }
 },
 "nbformat": 4,
 "nbformat_minor": 2
}
